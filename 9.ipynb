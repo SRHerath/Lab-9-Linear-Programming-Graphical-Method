{
 "cells": [
  {
   "cell_type": "code",
   "execution_count": 3,
   "id": "c04201b6",
   "metadata": {},
   "outputs": [],
   "source": [
    "from pulp import *\n",
    "import matplotlib.pyplot as plt\n",
    "import numpy as np"
   ]
  },
  {
   "cell_type": "code",
   "execution_count": 2,
   "id": "d655f8d0",
   "metadata": {},
   "outputs": [
    {
     "name": "stdout",
     "output_type": "stream",
     "text": [
      "Collecting pulp\n",
      "  Downloading PuLP-2.7.0-py3-none-any.whl (14.3 MB)\n",
      "Installing collected packages: pulp\n",
      "Successfully installed pulp-2.7.0\n",
      "Note: you may need to restart the kernel to use updated packages.\n"
     ]
    }
   ],
   "source": [
    "pip install pulp"
   ]
  },
  {
   "cell_type": "code",
   "execution_count": 4,
   "id": "61d07967",
   "metadata": {},
   "outputs": [
    {
     "name": "stderr",
     "output_type": "stream",
     "text": [
      "C:\\Users\\Admin\\anaconda3\\lib\\site-packages\\pulp\\pulp.py:1352: UserWarning: Spaces are not permitted in the name. Converted to '_'\n",
      "  warnings.warn(\"Spaces are not permitted in the name. Converted to '_'\")\n"
     ]
    }
   ],
   "source": [
    "prob = LpProblem(\"Simple LP Problem\", LpMaximize)"
   ]
  },
  {
   "cell_type": "code",
   "execution_count": 5,
   "id": "fe51d961",
   "metadata": {},
   "outputs": [],
   "source": [
    "x = LpVariable(\"x\", 0)\n",
    "y = LpVariable(\"y\", 0)"
   ]
  },
  {
   "cell_type": "code",
   "execution_count": 6,
   "id": "0f8154ae",
   "metadata": {},
   "outputs": [],
   "source": [
    "prob += 3*x + 2*y"
   ]
  },
  {
   "cell_type": "code",
   "execution_count": 7,
   "id": "9813e5a4",
   "metadata": {},
   "outputs": [],
   "source": [
    "# Define the constraints\n",
    "prob += 2*x + y <= 18.0\n",
    "prob += 2*x + 3*y <= 42.0\n",
    "prob += 3*x + y <= 24.0"
   ]
  },
  {
   "cell_type": "code",
   "execution_count": 8,
   "id": "6725fa41",
   "metadata": {},
   "outputs": [
    {
     "data": {
      "text/plain": [
       "1"
      ]
     },
     "execution_count": 8,
     "metadata": {},
     "output_type": "execute_result"
    }
   ],
   "source": [
    "prob.solve()"
   ]
  },
  {
   "cell_type": "code",
   "execution_count": null,
   "id": "db743708",
   "metadata": {},
   "outputs": [],
   "source": []
  }
 ],
 "metadata": {
  "kernelspec": {
   "display_name": "Python 3 (ipykernel)",
   "language": "python",
   "name": "python3"
  },
  "language_info": {
   "codemirror_mode": {
    "name": "ipython",
    "version": 3
   },
   "file_extension": ".py",
   "mimetype": "text/x-python",
   "name": "python",
   "nbconvert_exporter": "python",
   "pygments_lexer": "ipython3",
   "version": "3.9.12"
  }
 },
 "nbformat": 4,
 "nbformat_minor": 5
}
